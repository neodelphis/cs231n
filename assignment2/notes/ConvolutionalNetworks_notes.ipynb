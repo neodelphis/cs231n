{
 "cells": [
  {
   "cell_type": "markdown",
   "metadata": {},
   "source": [
    "# Propagation dans une couche convolutive"
   ]
  },
  {
   "cell_type": "markdown",
   "metadata": {},
   "source": [
    "## Paramètres en entrée et sortie de la couche convolutive"
   ]
  },
  {
   "cell_type": "markdown",
   "metadata": {},
   "source": [
    "A naive implementation of the forward pass for a convolutional layer.\n",
    "\n",
    "The input consists of N data points, each with C channels, height H and width W. We convolve each input with F different filters, where each filter spans all C channels and has height HH and width WW.\n",
    "\n",
    "Input:\n",
    "- x: Input data of shape (N, C, H, W)\n",
    "- w: Filter weights of shape (F, C, HH, WW)\n",
    "- b: Biases, of shape (F,)\n",
    "- conv_param: A dictionary with the following keys:\n",
    "  - 'stride': The number of pixels between adjacent receptive fields in the\n",
    "    horizontal and vertical directions.\n",
    "  - 'pad': The number of pixels that will be used to zero-pad the input. \n",
    "\n",
    "\n",
    "During padding, 'pad' zeros should be placed symmetrically (i.e equally on both sides) along the height and width axes of the input. Be careful not to modfiy the original input x directly.\n",
    "\n",
    "Returns a tuple of:\n",
    "- out: Output data, of shape (N, F, H', W') where H' and W' are given by\n",
    "  - H' = 1 + (H + 2 * pad - HH) / stride\n",
    "  - W' = 1 + (W + 2 * pad - WW) / stride\n",
    "- cache: (x, w, b, conv_param)\n"
   ]
  },
  {
   "cell_type": "markdown",
   "metadata": {},
   "source": [
    "## Cas particulier simple"
   ]
  },
  {
   "cell_type": "markdown",
   "metadata": {},
   "source": [
    "Détail de la construction du produit de convolution simplifié avant généralisation\n",
    "\n",
    "x"
   ]
  },
  {
   "cell_type": "code",
   "execution_count": 22,
   "metadata": {},
   "outputs": [
    {
     "data": {
      "text/plain": [
       "(3, 2, 2)"
      ]
     },
     "execution_count": 22,
     "metadata": {},
     "output_type": "execute_result"
    }
   ],
   "source": [
    "import numpy as np\n",
    "x = np.array([[[1, 2], [7, 4]],[[2, 3], [8, 3]],[[1, 1], [1, 1]]])\n",
    "x.shape"
   ]
  },
  {
   "cell_type": "code",
   "execution_count": 24,
   "metadata": {},
   "outputs": [],
   "source": [
    "H = x.shape[1]\n",
    "W = x.shape[2]"
   ]
  },
  {
   "cell_type": "markdown",
   "metadata": {},
   "source": [
    "xp = x avec 0-padding de 1 sur chacun des canaux"
   ]
  },
  {
   "cell_type": "code",
   "execution_count": 25,
   "metadata": {},
   "outputs": [
    {
     "data": {
      "text/plain": [
       "array([[[0, 0, 0, 0],\n",
       "        [0, 1, 2, 0],\n",
       "        [0, 7, 4, 0],\n",
       "        [0, 0, 0, 0]],\n",
       "\n",
       "       [[0, 0, 0, 0],\n",
       "        [0, 2, 3, 0],\n",
       "        [0, 8, 3, 0],\n",
       "        [0, 0, 0, 0]],\n",
       "\n",
       "       [[0, 0, 0, 0],\n",
       "        [0, 1, 1, 0],\n",
       "        [0, 1, 1, 0],\n",
       "        [0, 0, 0, 0]]])"
      ]
     },
     "execution_count": 25,
     "metadata": {},
     "output_type": "execute_result"
    }
   ],
   "source": [
    "xp = np.pad(a,((0,), (1,), (1, )), 'constant')\n",
    "xp"
   ]
  },
  {
   "cell_type": "code",
   "execution_count": 30,
   "metadata": {},
   "outputs": [
    {
     "data": {
      "text/plain": [
       "(3, 2, 2)"
      ]
     },
     "execution_count": 30,
     "metadata": {},
     "output_type": "execute_result"
    }
   ],
   "source": [
    "filter = np.array([[[0, 0],[0, 1]], [[0, 0],[0, 2]], [[0, 0],[0, 1]]])\n",
    "filter.shape"
   ]
  },
  {
   "cell_type": "code",
   "execution_count": 31,
   "metadata": {},
   "outputs": [],
   "source": [
    "HH = x.shape[1]\n",
    "WW = x.shape[2]"
   ]
  },
  {
   "cell_type": "code",
   "execution_count": 34,
   "metadata": {},
   "outputs": [
    {
     "data": {
      "text/plain": [
       "array([0, 0, 0, 1, 0, 0, 0, 2, 0, 0, 0, 1])"
      ]
     },
     "execution_count": 34,
     "metadata": {},
     "output_type": "execute_result"
    }
   ],
   "source": [
    "filter = filter.reshape(-1)\n",
    "filter"
   ]
  },
  {
   "cell_type": "code",
   "execution_count": 27,
   "metadata": {},
   "outputs": [
    {
     "data": {
      "text/plain": [
       "array([[[0, 0],\n",
       "        [0, 1]],\n",
       "\n",
       "       [[0, 0],\n",
       "        [0, 2]],\n",
       "\n",
       "       [[0, 0],\n",
       "        [0, 1]]])"
      ]
     },
     "execution_count": 27,
     "metadata": {},
     "output_type": "execute_result"
    }
   ],
   "source": [
    "#premier_elt = np.array([[0, 0], [0, 1]])\n",
    "premier_elt = xp[:, 0:2, 0:2]\n",
    "premier_elt"
   ]
  },
  {
   "cell_type": "code",
   "execution_count": 28,
   "metadata": {},
   "outputs": [
    {
     "data": {
      "text/plain": [
       "6"
      ]
     },
     "execution_count": 28,
     "metadata": {},
     "output_type": "execute_result"
    }
   ],
   "source": [
    "np.matmul(premier_elt.reshape(-1), filter.T)"
   ]
  },
  {
   "cell_type": "code",
   "execution_count": 29,
   "metadata": {},
   "outputs": [
    {
     "data": {
      "text/plain": [
       "11"
      ]
     },
     "execution_count": 29,
     "metadata": {},
     "output_type": "execute_result"
    }
   ],
   "source": [
    "second_elt = xp[:, 1:3, 1:3]\n",
    "np.matmul(second_elt.reshape(-1), filter.T)"
   ]
  },
  {
   "cell_type": "code",
   "execution_count": 36,
   "metadata": {},
   "outputs": [
    {
     "data": {
      "text/plain": [
       "(3, 3)"
      ]
     },
     "execution_count": 36,
     "metadata": {},
     "output_type": "execute_result"
    }
   ],
   "source": [
    "stride = 1\n",
    "pad = 1\n",
    "H_ = int(1 + (H + 2 * pad - HH) / stride)\n",
    "W_ = int(1 + (W + 2 * pad - WW) / stride)\n",
    "H_, W_"
   ]
  },
  {
   "cell_type": "code",
   "execution_count": 40,
   "metadata": {},
   "outputs": [],
   "source": [
    "conv = np.zeros((H_, W_))\n",
    "for i in range(H_):\n",
    "    for j in range(W_):\n",
    "        input_volume = xp[:, i*stride:i*stride+HH, j*stride:j*stride+WW]\n",
    "        conv[i,j] = np.matmul(input_volume.reshape(-1), filter.T)"
   ]
  },
  {
   "cell_type": "code",
   "execution_count": 41,
   "metadata": {},
   "outputs": [
    {
     "data": {
      "text/plain": [
       "array([[ 6.,  9.,  0.],\n",
       "       [24., 11.,  0.],\n",
       "       [ 0.,  0.,  0.]])"
      ]
     },
     "execution_count": 41,
     "metadata": {},
     "output_type": "execute_result"
    }
   ],
   "source": [
    "conv"
   ]
  },
  {
   "cell_type": "markdown",
   "metadata": {},
   "source": [
    "## Back prop in a convolutional layer"
   ]
  },
  {
   "cell_type": "markdown",
   "metadata": {},
   "source": [
    "I struggled for quite a long time trying to find out how back propagation is working in a convolutional layer. As I was unable to find on the web a complete explanation of how it works. I decided to do the maths, trying to understand step by step how it's working on simple examples before generalizing.\n",
    "The rest of the document is in french, but equations are self explanatory, and if there are requests I can post a translation."
   ]
  },
  {
   "cell_type": "markdown",
   "metadata": {},
   "source": [
    "### Forward\n",
    "Dimensions avec un stride de 1\n",
    "- $x$ : $H \\times W$\n",
    "- $w$ : $HH \\times WW$\n",
    "- $b$ biais : scalaire\n",
    "- $y$ : $(H-HH+1)\\times (W-WW+1)$"
   ]
  },
  {
   "cell_type": "markdown",
   "metadata": {},
   "source": [
    "Propagation\n",
    "$$y_{ij} = \\left (\\sum_{k=0}^{HH-1} \\sum_{l=0}^{WW-1} w_{kl} x_{i+k,j+l}  \\right ) + b \\tag {1}$$"
   ]
  },
  {
   "cell_type": "markdown",
   "metadata": {},
   "source": [
    "### Rétro propagation"
   ]
  },
  {
   "cell_type": "markdown",
   "metadata": {},
   "source": [
    "On connait $dy = \\left(\\frac{\\partial L}{\\partial y_{ij}}\\right)$"
   ]
  },
  {
   "cell_type": "markdown",
   "metadata": {},
   "source": [
    "On cherche $dx$, $d\\omega$ et $d\\beta$, dérivées partielles respectives de notre fonction de coût dont le gradient a été rétropropagé jusqu'à y."
   ]
  },
  {
   "cell_type": "markdown",
   "metadata": {},
   "source": [
    " Commençons par le plus simple: $d\\beta$"
   ]
  },
  {
   "cell_type": "markdown",
   "metadata": {},
   "source": [
    "$$ \\frac{\\partial L}{\\partial \\beta} = \\frac{\\partial L}{\\partial y} \\cdot \\frac{\\partial y}{\\partial \\beta} $$"
   ]
  },
  {
   "cell_type": "markdown",
   "metadata": {},
   "source": [
    "# Cas d'un vecteur d'entrée x à 1 dimension"
   ]
  },
  {
   "cell_type": "markdown",
   "metadata": {},
   "source": [
    "## En entrée"
   ]
  },
  {
   "cell_type": "markdown",
   "metadata": {},
   "source": [
    "$$\n",
    "x = \n",
    "\\begin{bmatrix}\n",
    "x_1\\\\ \n",
    "x_2\\\\ \n",
    "x_3\\\\ \n",
    "x_4\n",
    "\\end{bmatrix}\n",
    "$$"
   ]
  },
  {
   "cell_type": "markdown",
   "metadata": {},
   "source": [
    "$$\n",
    "w = \n",
    "\\begin{bmatrix}\n",
    "w_1\\\\ \n",
    "w_2\n",
    "\\end{bmatrix}\n",
    "$$"
   ]
  },
  {
   "cell_type": "markdown",
   "metadata": {},
   "source": [
    "$$b$$"
   ]
  },
  {
   "cell_type": "markdown",
   "metadata": {},
   "source": [
    "## En sortie"
   ]
  },
  {
   "cell_type": "markdown",
   "metadata": {},
   "source": [
    "$$\n",
    "y = \n",
    "\\begin{bmatrix}\n",
    "y_1\\\\ \n",
    "y_2\\\\ \n",
    "y_3\n",
    "\\end{bmatrix}\n",
    "$$"
   ]
  },
  {
   "cell_type": "markdown",
   "metadata": {},
   "source": [
    "## Propagation - convolution avec le filtre w, stride = 1, padding = 0"
   ]
  },
  {
   "cell_type": "markdown",
   "metadata": {},
   "source": [
    "$$\n",
    "y_1 = w_1 x_1 + w_2 x_2 + b\\\\\n",
    "y_2 = w_1 x_2 + w_2 x_3 + b \\tag{1}\\\\\n",
    "y_3 = w_1 x_3 + w_2 x_4 + b\n",
    "$$"
   ]
  },
  {
   "cell_type": "markdown",
   "metadata": {},
   "source": [
    "## Rétropropagation"
   ]
  },
  {
   "cell_type": "markdown",
   "metadata": {},
   "source": [
    "On connait le gradient de notre fonction de coût L par rapport à y:\n",
    "$$\n",
    "dy = \\frac{\\partial L}{\\partial y}\n",
    "$$"
   ]
  },
  {
   "cell_type": "markdown",
   "metadata": {},
   "source": [
    "En fait $dy = \\frac{\\partial L}{\\partial y}$, dérivée d'un scalaire par rapport à un vecteur s'écrit avec la notation du Jacobien:\n",
    "$$\n",
    "\\begin{align*}\n",
    "&\n",
    "dy = \n",
    "\\begin{bmatrix}\n",
    "\\frac{\\partial L}{\\partial y_1} & \\frac{\\partial L}{\\partial y_2} & \\frac{\\partial L}{\\partial y_3} \n",
    "\\end{bmatrix} \\\\\n",
    "&\n",
    "dy = \n",
    "\\begin{bmatrix}\n",
    "dy_1 & dy_2 & dy_3\n",
    "\\end{bmatrix}\n",
    "\\end{align*}\n",
    "$$"
   ]
  },
  {
   "cell_type": "markdown",
   "metadata": {},
   "source": [
    "dy a les mêmes dimensions que y, écriture sous forme vectorielle:\n",
    "$$\n",
    "dy = (dy_1 , dy_2 , dy_3)\n",
    "$$"
   ]
  },
  {
   "cell_type": "markdown",
   "metadata": {},
   "source": [
    "On cherche $$dx=\\frac{\\partial L}{\\partial x},  dw=\\frac{\\partial L}{\\partial w},  db=\\frac{\\partial L}{\\partial b}$$"
   ]
  },
  {
   "cell_type": "markdown",
   "metadata": {},
   "source": [
    "### db"
   ]
  },
  {
   "cell_type": "markdown",
   "metadata": {},
   "source": [
    "$$db=\\frac{\\partial L}{\\partial y}\\cdot \\frac{\\partial y}{\\partial b} = dy\\cdot\\frac{\\partial y}{\\partial b}$$"
   ]
  },
  {
   "cell_type": "markdown",
   "metadata": {},
   "source": [
    "Et la composée de fonction s'écrit sous la forme (en incorporant la formule de propagation (1)):"
   ]
  },
  {
   "cell_type": "markdown",
   "metadata": {},
   "source": [
    "$$\n",
    "db\n",
    "=\n",
    "\\sum_{j}\\frac{\\partial L}{\\partial y_j}\\cdot \\frac{\\partial y_j}{\\partial b} \n",
    "= \n",
    "\\begin{bmatrix}\n",
    "dy_1 & dy_2 & dy_3\n",
    "\\end{bmatrix}\n",
    "\\cdot\n",
    "\\begin{bmatrix}\n",
    "1\\\\ \n",
    "1\\\\ \n",
    "1\n",
    "\\end{bmatrix}\n",
    "$$"
   ]
  },
  {
   "cell_type": "markdown",
   "metadata": {},
   "source": [
    "$$\\Rightarrow db=dy_1+dy_2+dy_3$$"
   ]
  },
  {
   "cell_type": "markdown",
   "metadata": {},
   "source": [
    "### dw"
   ]
  },
  {
   "cell_type": "markdown",
   "metadata": {},
   "source": [
    "$$dw=\\frac{\\partial L}{\\partial y}\\cdot \\frac{\\partial y}{\\partial w} = dy\\cdot\\frac{\\partial y}{\\partial w}$$"
   ]
  },
  {
   "cell_type": "markdown",
   "metadata": {},
   "source": [
    "$$\n",
    "\\frac{\\partial y}{\\partial w}\n",
    "=\n",
    "\\begin{bmatrix}\n",
    "\\frac{\\partial y_1}{\\partial w_1} & \\frac{\\partial y_1}{\\partial w_2}\\\\ \n",
    "\\frac{\\partial y_2}{\\partial w_1} & \\frac{\\partial y_2}{\\partial w_2}\\\\ \n",
    "\\frac{\\partial y_3}{\\partial w_1} & \\frac{\\partial y_3}{\\partial w_2}\\\\ \n",
    "\\end{bmatrix}\n",
    "$$"
   ]
  },
  {
   "cell_type": "markdown",
   "metadata": {},
   "source": [
    "$$\n",
    "\\frac{\\partial y}{\\partial w}\n",
    "=\n",
    "\\begin{bmatrix}\n",
    "x_1 & x_2\\\\ \n",
    "x_2 & x_3\\\\ \n",
    "x_3 & x_4\\\\ \n",
    "\\end{bmatrix}\n",
    "$$"
   ]
  },
  {
   "cell_type": "markdown",
   "metadata": {},
   "source": [
    "$$\n",
    "\\begin{bmatrix}\n",
    "dy_1 & \n",
    "dy_2 & \n",
    "dy_3\n",
    "\\end{bmatrix}\n",
    "\\cdot\n",
    "\\begin{bmatrix}\n",
    "x_1 & x_2\\\\ \n",
    "x_2 & x_3\\\\ \n",
    "x_3 & x_4\\\\ \n",
    "\\end{bmatrix}\n",
    "$$"
   ]
  },
  {
   "cell_type": "markdown",
   "metadata": {},
   "source": [
    "$$\n",
    "dw_1 = x_1 dy_1 + x_2 dy_2 + x_3 dy_3 \\\\\n",
    "dw_2 = x_2 dy_1 + x_3 dy_2 + x_4 dy_3\n",
    "$$"
   ]
  },
  {
   "cell_type": "markdown",
   "metadata": {},
   "source": [
    "dw correspond au produit de convolution de x avec dy comme filtre, à voir si cela se généralise avec une dimension supplémentaire."
   ]
  },
  {
   "cell_type": "markdown",
   "metadata": {},
   "source": [
    "$$\n",
    "dw = \n",
    "\\begin{bmatrix}\n",
    "x_1 \\\\\n",
    "x_2 \\\\\n",
    "x_3 \\\\\n",
    "x_4\n",
    "\\end{bmatrix}\n",
    "*\n",
    "\\begin{bmatrix}\n",
    "dy_1 \\\\\n",
    "dy_2 \\\\\n",
    "dy_3\n",
    "\\end{bmatrix}\n",
    "$$"
   ]
  },
  {
   "cell_type": "markdown",
   "metadata": {},
   "source": [
    "### dx"
   ]
  },
  {
   "cell_type": "markdown",
   "metadata": {},
   "source": [
    "$$dx=\\frac{\\partial L}{\\partial y}\\cdot \\frac{\\partial y}{\\partial x} = dy^T\\cdot\\frac{\\partial y}{\\partial x}$$"
   ]
  },
  {
   "cell_type": "markdown",
   "metadata": {},
   "source": [
    "$$\n",
    "\\frac{\\partial y}{\\partial x}\n",
    "=\n",
    "\\begin{bmatrix}\n",
    "\\frac{\\partial y_1}{\\partial x_1} & \\frac{\\partial y_1}{\\partial x_2} & \\frac{\\partial y_1}{\\partial x_3} & \\frac{\\partial y_1}{\\partial x_4}\\\\ \n",
    "\\frac{\\partial y_2}{\\partial x_1} & \\frac{\\partial y_2}{\\partial x_2} & \\frac{\\partial y_2}{\\partial x_3} & \\frac{\\partial y_2}{\\partial x_4}\\\\ \n",
    "\\frac{\\partial y_3}{\\partial x_1} & \\frac{\\partial y_3}{\\partial x_2} & \\frac{\\partial y_3}{\\partial x_3} & \\frac{\\partial y_3}{\\partial x_4}\\\\ \n",
    "\\end{bmatrix}\n",
    "$$"
   ]
  },
  {
   "cell_type": "markdown",
   "metadata": {},
   "source": [
    "$$\n",
    "\\frac{\\partial y}{\\partial x}\n",
    "=\n",
    "\\begin{bmatrix}\n",
    "w_1 & w_2 & 0 & 0\\\\ \n",
    "0 & w_1 & w_2 & 0\\\\ \n",
    "0 & 0 & w_1 & w_2\\\\ \n",
    "\\end{bmatrix}\n",
    "$$"
   ]
  },
  {
   "cell_type": "markdown",
   "metadata": {},
   "source": [
    "$$\n",
    "\\begin{align*}\n",
    "&dx_1 = w_1 dy_1\\\\\n",
    "&dx_2 = w_2 dy_1 + w_1 dy_2 \\\\\n",
    "&dx_3 = w_2 dy_2 + w_1 dy_3 \\\\\n",
    "&dx_4 = w_2 dy_3\n",
    "\\end{align*}\n",
    "$$"
   ]
  },
  {
   "cell_type": "markdown",
   "metadata": {},
   "source": [
    "Donne encore un produit de convolution, un peu particulier cette fois, il faudrait considérer dy avec un padding à 0 de 1, et en faire le produit convolutif avec un filtre w inversé du type $(w_2, w_1)$"
   ]
  },
  {
   "cell_type": "markdown",
   "metadata": {},
   "source": [
    "$$\n",
    "dx = \n",
    "\\begin{bmatrix}\n",
    "0 \\\\\n",
    "dy_1 \\\\\n",
    "dy_2 \\\\\n",
    "dy_3 \\\\\n",
    "0\n",
    "\\end{bmatrix}\n",
    "*\n",
    "\\begin{bmatrix}\n",
    "w_2 \\\\\n",
    "w_1\n",
    "\\end{bmatrix}\n",
    "$$"
   ]
  },
  {
   "cell_type": "markdown",
   "metadata": {},
   "source": [
    "# Cas d'un vecteur d'entrée x à 2 dimensions"
   ]
  },
  {
   "cell_type": "markdown",
   "metadata": {},
   "source": [
    "## En entrée"
   ]
  },
  {
   "cell_type": "markdown",
   "metadata": {},
   "source": [
    "$$\n",
    "x = \n",
    "\\begin{bmatrix}\n",
    "x_{11} &x_{12} &x_{13} &x_{14}\\\\ \n",
    "x_{21} &x_{22} &x_{23} &x_{24} \\\\ \n",
    "x_{31} &x_{32} &x_{33} &x_{34}\\\\ \n",
    "x_{41} &x_{42} &x_{43} &x_{44}\n",
    "\\end{bmatrix}\n",
    "$$"
   ]
  },
  {
   "cell_type": "markdown",
   "metadata": {},
   "source": [
    "$$\n",
    "w = \n",
    "\\begin{bmatrix}\n",
    "w_{11} &w_{12}\\\\ \n",
    "w_{21} &w_{22}\n",
    "\\end{bmatrix}\n",
    "$$"
   ]
  },
  {
   "cell_type": "markdown",
   "metadata": {},
   "source": [
    "$$b$$"
   ]
  },
  {
   "cell_type": "markdown",
   "metadata": {},
   "source": [
    "## En sortie"
   ]
  },
  {
   "cell_type": "markdown",
   "metadata": {},
   "source": [
    "De nouveau on va prendre le cas le plus simple, stride de 1 et pas de padding. Donc $y$ aura pour dimension $3 \\times 3$"
   ]
  },
  {
   "cell_type": "markdown",
   "metadata": {},
   "source": [
    "$$\n",
    "y = \n",
    "\\begin{bmatrix}\n",
    "y_{11} &y_{12} &y_{13} \\\\ \n",
    "y_{21} &y_{22} &y_{23} \\\\ \n",
    "y_{31} &y_{32} &y_{33}\n",
    "\\end{bmatrix}\n",
    "$$"
   ]
  },
  {
   "cell_type": "markdown",
   "metadata": {},
   "source": [
    "## Propagation"
   ]
  },
  {
   "cell_type": "markdown",
   "metadata": {},
   "source": [
    "Ce qui nous donne:$$\n",
    "y_{11} = w_{11} x_{11} + w_{12} x_{12} + w_{21} x_{21} + w_{22} x_{22} + b\\\\\n",
    "y_{12} = w_{11} x_{12} + w_{12} x_{13} + w_{21} x_{22} + w_{22} x_{23} + b\\\\\n",
    "\\cdots \n",
    "$$"
   ]
  },
  {
   "cell_type": "markdown",
   "metadata": {},
   "source": [
    "En écriture indicielle:\n",
    "$$y_{ij} = \\left (\\sum_{k=1}^{2} \\sum_{l=1}^{2} w_{kl} x_{i+k-1,j+l-1}  \\right ) + b \\quad \\forall(i,j)\\in\\{1,2,3\\}^2 \\tag {2}$$"
   ]
  },
  {
   "cell_type": "markdown",
   "metadata": {},
   "source": [
    "## Rétropropagation"
   ]
  },
  {
   "cell_type": "markdown",
   "metadata": {},
   "source": [
    "On connait:\n",
    "$$\n",
    "dy_{ij} = \\frac{\\partial L}{\\partial y_{ij}}\n",
    "$$"
   ]
  },
  {
   "cell_type": "markdown",
   "metadata": {},
   "source": [
    "### db"
   ]
  },
  {
   "cell_type": "markdown",
   "metadata": {},
   "source": [
    "En utilisant la convention d'Einstein pour alléger les notations (la répétition d'un indice indique la somme sur l'ensemble de la plage de valeurs de cet indice)\n",
    "$$db = dy_{ij}\\cdot\\frac{\\partial y_{ij}}{\\partial b}$$"
   ]
  },
  {
   "cell_type": "markdown",
   "metadata": {},
   "source": [
    "On a une double somme sur i et j, et $\\forall (i,j)$ on a $\\frac{\\partial y_{ij}}{\\partial b}=1$, donc\n",
    "$$\n",
    "db = \\sum_{i=1}^3 \\sum_{j=1}^3 dy_{ij}\n",
    "$$"
   ]
  },
  {
   "cell_type": "markdown",
   "metadata": {},
   "source": [
    "### dw"
   ]
  },
  {
   "cell_type": "markdown",
   "metadata": {},
   "source": [
    "$$dw=\\frac{\\partial L}{\\partial y_{ij}}\\cdot \\frac{\\partial y_{ij}}{\\partial w} = dy\\cdot\\frac{\\partial y}{\\partial w}$$"
   ]
  },
  {
   "cell_type": "markdown",
   "metadata": {},
   "source": [
    "$$dw_{mn} = dy_{ij}\\cdot\\frac{\\partial y_{ij}}{\\partial w_{mn}} \\tag{3}$$"
   ]
  },
  {
   "cell_type": "markdown",
   "metadata": {},
   "source": [
    "On cherche\n",
    "$$\\frac{\\partial y_{ij}}{\\partial w_{mn}}$$"
   ]
  },
  {
   "cell_type": "markdown",
   "metadata": {},
   "source": [
    "En incorporant l'équation (2) on obtient:\n",
    "$$\\frac{\\partial y_{ij}}{\\partial w_{mn}}\n",
    "= \n",
    "\\sum_{k=1}^{2} \\sum_{l=1}^{2} \\frac{\\partial w_{kl}}{\\partial w_{mn}} x_{i+k-1,j+l-1}\n",
    "$$"
   ]
  },
  {
   "cell_type": "markdown",
   "metadata": {},
   "source": [
    "Tous les termes de $\\frac{\\partial w_{kl}}{\\partial w_{mn}}$ sont nuls sauf pour $(k,l) = (m,n)$ où cela vaut 1, cas qui n'apparaît qu'une seule fois dans la double somme."
   ]
  },
  {
   "cell_type": "markdown",
   "metadata": {},
   "source": [
    "D'où:\n",
    "$$\n",
    "\\frac{\\partial y_{ij}}{\\partial w_{mn}}\n",
    "= \n",
    "x_{i+k-1,j+l-1}\n",
    "$$"
   ]
  },
  {
   "cell_type": "markdown",
   "metadata": {},
   "source": [
    "En remplaçant dans (3) on obtient:"
   ]
  },
  {
   "cell_type": "markdown",
   "metadata": {},
   "source": [
    "$$dw_{mn} = dy_{ij} \\cdot x_{i+k-1,j+l-1}$$"
   ]
  },
  {
   "cell_type": "markdown",
   "metadata": {},
   "source": [
    "$$\n",
    "\\Rightarrow dw_{mn} = \\sum_{i=1}^3 \\sum_{j=1}^3 dy_{ij} \\cdot x_{i+k-1,j+l-1}\n",
    "$$"
   ]
  },
  {
   "cell_type": "markdown",
   "metadata": {},
   "source": [
    "Si l'on compare cette équation avec l'équation 2 qui donne la formule d'un produit de convolution, on retrouve une structure similaire où dy joue le rôle de filtre que l'on applique sur x."
   ]
  },
  {
   "cell_type": "markdown",
   "metadata": {},
   "source": [
    "L'idée est d'appliquer ce filtre dy qui a une profondeur de 1, sur chacun des canaux de x et de sommer les valeurs pour obternir dw. Et aussi de faire la somme sur l'ensemble N des images utilisées."
   ]
  },
  {
   "cell_type": "markdown",
   "metadata": {},
   "source": [
    "Dans la propagation, on fait une somme sur tous les canaux"
   ]
  },
  {
   "cell_type": "markdown",
   "metadata": {},
   "source": [
    "### dx"
   ]
  },
  {
   "cell_type": "markdown",
   "metadata": {},
   "source": [
    "En utilisant la loi de composition comme pour (3) on obtient:\n",
    "$$\n",
    "dx_{mn} = dy_{ij}\\cdot\\frac{\\partial y_{ij}}{\\partial x_{mn}} \\tag{4}\n",
    "$$"
   ]
  },
  {
   "cell_type": "markdown",
   "metadata": {},
   "source": [
    "Cette fois ci on cherche \n",
    "$$\n",
    "\\frac{\\partial y_{ij}}{\\partial x_{mn}}\n",
    "$$"
   ]
  },
  {
   "cell_type": "markdown",
   "metadata": {},
   "source": [
    "En incorporant l'équation (2) on obtient:\n",
    "$$\\frac{\\partial y_{ij}}{\\partial x_{mn}}\n",
    "= \n",
    "\\sum_{k=1}^{2} \\sum_{l=1}^{2} w_{kl} \\frac{\\partial x_{i+k-1,j+l-1}}{\\partial x_{mn}}  \\tag{5}\n",
    "$$"
   ]
  },
  {
   "cell_type": "markdown",
   "metadata": {},
   "source": [
    "On a "
   ]
  },
  {
   "cell_type": "markdown",
   "metadata": {},
   "source": [
    "$$\n",
    "\\frac{\\partial x_{i+k,j+l}}{\\partial x_{mn}}  = \n",
    "\\begin{cases} \n",
    "1 & \\text{si } m=i+k-1 \\text{ et } n=j+l-1\\\\\n",
    "0 & \\text{sinon } \n",
    "\\end{cases}\n",
    "$$"
   ]
  },
  {
   "cell_type": "markdown",
   "metadata": {},
   "source": [
    "$$\n",
    "\\begin{cases} \n",
    "m=i+k-1\\\\\n",
    "n=j+l-1\n",
    "\\end{cases}\n",
    "$$"
   ]
  },
  {
   "cell_type": "markdown",
   "metadata": {},
   "source": [
    "$$\n",
    "\\Rightarrow\n",
    "\\begin{cases} \n",
    "k=m-i+1\\\\\n",
    "l=n-j+1\n",
    "\\end{cases}\n",
    "\\tag{6}\n",
    "$$"
   ]
  },
  {
   "cell_type": "markdown",
   "metadata": {},
   "source": [
    "Dans notre exemple on a \n",
    "$$\n",
    "\\begin{align*}\n",
    "&m,n \\in [1,4] & \\text{ entrées }\\\\\n",
    "&k,l \\in [1,2] & \\text{ filtres }\\\\\n",
    "&i,j \\in [1,3] & \\text{ sorties }\n",
    "\\end{align*}\n",
    "$$"
   ]
  },
  {
   "cell_type": "markdown",
   "metadata": {},
   "source": [
    "Donc lorsque l'on fait $k=m-i$, on va sortir un peu de l'intervalle de valeurs, $m-i+1 \\in [-1,4]$\n",
    "> - à voir comment on le gère\n",
    "> - Ce changement d'indice correspond à ce qui nommé rot180 du filtre dans les papiers, à détailler"
   ]
  },
  {
   "cell_type": "markdown",
   "metadata": {},
   "source": [
    "De nouveau, dans la double somme de (5), on peut avoir une seule dérivée partielle de x qui soit égale à 1, lorsque l'on a (6), donc en remplaçant dans (5):\n",
    "$$\n",
    "\\frac{\\partial y_{ij}}{\\partial x_{mn}}\n",
    "= \n",
    "w_{m-i+1,n-j+1}\n",
    "$$"
   ]
  },
  {
   "cell_type": "markdown",
   "metadata": {},
   "source": [
    "où $w$ représente notre filtre initial étendu avec des valeurs 0, lorsque l'on sort de l'intervalle de définition"
   ]
  },
  {
   "cell_type": "markdown",
   "metadata": {},
   "source": [
    "En injectant cette formule dans (4) on obtient:\n",
    "$$\n",
    "dx_{mn} = \\sum_{i=1}^3 \\sum_{j=1}^3 dy_{ij} \\cdot w_{m-i+1,n-j+1} \\tag{4}\n",
    "$$"
   ]
  },
  {
   "cell_type": "markdown",
   "metadata": {},
   "source": [
    "Par exemple \n",
    "$$\n",
    "\\begin{align*}\n",
    "dx_{11} &= \\sum_{i=1}^3 \\sum_{j=1}^3 dy_{ij} \\cdot w_{2-i,2-j}\\\\\n",
    "&= \\sum_{i=1}^3\n",
    "dy_{i1} w_{2-i,1} +\n",
    "dy_{i2} w_{2-i,0} +\n",
    "dy_{i3} w_{2-i,-1,}\\\\\n",
    "&= dy_{11} w_{1,1} + dy_{12} w_{1,0} + dy_{13} w_{1,-1}\\\\\n",
    "&+ dy_{21} w_{0,1} + dy_{22} w_{0,0} + dy_{23} w_{0,-1}\\\\\n",
    "&+ dy_{31} w_{-1,1} + dy_{32} w_{-1,0} + dy_{33} w_{-1,-1}\n",
    "\\end{align*}\n",
    "$$"
   ]
  },
  {
   "cell_type": "markdown",
   "metadata": {},
   "source": [
    "En utilisant $*$ pour notation du produit de convolution, on a:\n",
    "$$\n",
    "dx_{11} = dy * \n",
    "\\begin{bmatrix}\n",
    "w_{1,1} & 0 & 0 \\\\ \n",
    "0 & 0 & 0 \\\\ \n",
    "0 & 0 & 0\n",
    "\\end{bmatrix}\n",
    "$$"
   ]
  },
  {
   "cell_type": "markdown",
   "metadata": {},
   "source": [
    "Valeurs des indices de w pour $dx_{22}$ : $3-i,3-j$\n",
    "$$\n",
    "\\begin{bmatrix}\n",
    "2,2 & 2,1 & 2,0 \\\\ \n",
    "1,2 & 1,1 & 1,0 \\\\ \n",
    "0,2 & 0,1 & 0,0\n",
    "\\end{bmatrix}\n",
    "$$"
   ]
  },
  {
   "cell_type": "markdown",
   "metadata": {},
   "source": [
    "Donc on a un produit de convolution entre dy et une matrice w' de type:\n",
    "$$\n",
    "\\begin{bmatrix}\n",
    "w_{2,2} & w_{2,1} & 0 \\\\ \n",
    "w_{1,2} & w_{1,1} & 0 \\\\ \n",
    "0 & 0 & 0\n",
    "\\end{bmatrix}\n",
    "$$"
   ]
  },
  {
   "cell_type": "markdown",
   "metadata": {},
   "source": [
    "Autre exemple pour essayer de clarifier les choses: $dx_{43}$, de nouveau on se limite aux valeurs des indices: $4-i,3-j$\n",
    "$$\n",
    "\\begin{bmatrix}\n",
    "3,2 & 3,1 & 3,0 \\\\\n",
    "2,2 & 2,1 & 2,0 \\\\\n",
    "1,2 & 1,1 & 1,0 \\\\\n",
    "\\end{bmatrix}\n",
    "$$"
   ]
  },
  {
   "cell_type": "markdown",
   "metadata": {},
   "source": [
    "$$\n",
    "\\begin{bmatrix}\n",
    "0 & 0 & 0 \\\\\n",
    "w_{2,2} & w_{2,1} & 0 \\\\ \n",
    "w_{1,2} & w_{1,1} & 0\n",
    "\\end{bmatrix}\n",
    "$$"
   ]
  },
  {
   "cell_type": "markdown",
   "metadata": {},
   "source": [
    "Et du coup pou finir $dx_{44}$\n",
    "$$\n",
    "\\begin{bmatrix}\n",
    "0 & 0 & 0 \\\\\n",
    "0 & 0 & 0 \\\\\n",
    "0 & 0 & w_{2,2}\n",
    "\\end{bmatrix}\n",
    "$$"
   ]
  },
  {
   "cell_type": "markdown",
   "metadata": {},
   "source": [
    "Donc on voit bien apparaître un filtre w inversé, donc on obtient un produit convolutif entre $dy$ avec une bordure de 0 et $w'$, notre $w$ inversé, qui se déplace sur cette matrice avec un pas (stride) de 1."
   ]
  },
  {
   "cell_type": "markdown",
   "metadata": {},
   "source": [
    "$$w'_{ij}=w_{3-i,3-j}$$"
   ]
  },
  {
   "cell_type": "code",
   "execution_count": null,
   "metadata": {},
   "outputs": [],
   "source": []
  },
  {
   "cell_type": "code",
   "execution_count": null,
   "metadata": {},
   "outputs": [],
   "source": []
  },
  {
   "cell_type": "code",
   "execution_count": null,
   "metadata": {},
   "outputs": [],
   "source": []
  },
  {
   "cell_type": "code",
   "execution_count": null,
   "metadata": {},
   "outputs": [],
   "source": []
  },
  {
   "cell_type": "code",
   "execution_count": null,
   "metadata": {},
   "outputs": [],
   "source": []
  },
  {
   "cell_type": "code",
   "execution_count": null,
   "metadata": {},
   "outputs": [],
   "source": []
  },
  {
   "cell_type": "code",
   "execution_count": null,
   "metadata": {},
   "outputs": [],
   "source": []
  }
 ],
 "metadata": {
  "kernelspec": {
   "display_name": "Python 3",
   "language": "python",
   "name": "python3"
  },
  "language_info": {
   "codemirror_mode": {
    "name": "ipython",
    "version": 3
   },
   "file_extension": ".py",
   "mimetype": "text/x-python",
   "name": "python",
   "nbconvert_exporter": "python",
   "pygments_lexer": "ipython3",
   "version": "3.7.3"
  }
 },
 "nbformat": 4,
 "nbformat_minor": 2
}
