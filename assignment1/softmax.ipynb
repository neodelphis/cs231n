{
 "cells": [
  {
   "cell_type": "markdown",
   "metadata": {
    "tags": [
     "pdf-title"
    ]
   },
   "source": [
    "# Softmax exercise\n",
    "\n",
    "*Complete and hand in this completed worksheet (including its outputs and any supporting code outside of the worksheet) with your assignment submission. For more details see the [assignments page](http://vision.stanford.edu/teaching/cs231n/assignments.html) on the course website.*\n",
    "\n",
    "This exercise is analogous to the SVM exercise. You will:\n",
    "\n",
    "- implement a fully-vectorized **loss function** for the Softmax classifier\n",
    "- implement the fully-vectorized expression for its **analytic gradient**\n",
    "- **check your implementation** with numerical gradient\n",
    "- use a validation set to **tune the learning rate and regularization** strength\n",
    "- **optimize** the loss function with **SGD**\n",
    "- **visualize** the final learned weights\n"
   ]
  },
  {
   "cell_type": "code",
   "execution_count": 1,
   "metadata": {
    "tags": [
     "pdf-ignore"
    ]
   },
   "outputs": [],
   "source": [
    "import random\n",
    "import numpy as np\n",
    "from cs231n.data_utils import load_CIFAR10\n",
    "import matplotlib.pyplot as plt\n",
    "\n",
    "%matplotlib inline\n",
    "plt.rcParams['figure.figsize'] = (10.0, 8.0) # set default size of plots\n",
    "plt.rcParams['image.interpolation'] = 'nearest'\n",
    "plt.rcParams['image.cmap'] = 'gray'\n",
    "\n",
    "# for auto-reloading extenrnal modules\n",
    "# see http://stackoverflow.com/questions/1907993/autoreload-of-modules-in-ipython\n",
    "%load_ext autoreload\n",
    "%autoreload 2"
   ]
  },
  {
   "cell_type": "code",
   "execution_count": 2,
   "metadata": {
    "tags": [
     "pdf-ignore"
    ]
   },
   "outputs": [
    {
     "name": "stdout",
     "output_type": "stream",
     "text": [
      "Train data shape:  (49000, 3073)\n",
      "Train labels shape:  (49000,)\n",
      "Validation data shape:  (1000, 3073)\n",
      "Validation labels shape:  (1000,)\n",
      "Test data shape:  (1000, 3073)\n",
      "Test labels shape:  (1000,)\n",
      "dev data shape:  (500, 3073)\n",
      "dev labels shape:  (500,)\n"
     ]
    }
   ],
   "source": [
    "def get_CIFAR10_data(num_training=49000, num_validation=1000, num_test=1000, num_dev=500):\n",
    "    \"\"\"\n",
    "    Load the CIFAR-10 dataset from disk and perform preprocessing to prepare\n",
    "    it for the linear classifier. These are the same steps as we used for the\n",
    "    SVM, but condensed to a single function.  \n",
    "    \"\"\"\n",
    "    # Load the raw CIFAR-10 data\n",
    "    cifar10_dir = 'cs231n/datasets/cifar-10-batches-py'\n",
    "    \n",
    "    # Cleaning up variables to prevent loading data multiple times (which may cause memory issue)\n",
    "    try:\n",
    "       del X_train, y_train\n",
    "       del X_test, y_test\n",
    "       print('Clear previously loaded data.')\n",
    "    except:\n",
    "       pass\n",
    "\n",
    "    X_train, y_train, X_test, y_test = load_CIFAR10(cifar10_dir)\n",
    "    \n",
    "    # subsample the data\n",
    "    mask = list(range(num_training, num_training + num_validation))\n",
    "    X_val = X_train[mask]\n",
    "    y_val = y_train[mask]\n",
    "    mask = list(range(num_training))\n",
    "    X_train = X_train[mask]\n",
    "    y_train = y_train[mask]\n",
    "    mask = list(range(num_test))\n",
    "    X_test = X_test[mask]\n",
    "    y_test = y_test[mask]\n",
    "    mask = np.random.choice(num_training, num_dev, replace=False)\n",
    "    X_dev = X_train[mask]\n",
    "    y_dev = y_train[mask]\n",
    "    \n",
    "    # Preprocessing: reshape the image data into rows\n",
    "    X_train = np.reshape(X_train, (X_train.shape[0], -1))\n",
    "    X_val = np.reshape(X_val, (X_val.shape[0], -1))\n",
    "    X_test = np.reshape(X_test, (X_test.shape[0], -1))\n",
    "    X_dev = np.reshape(X_dev, (X_dev.shape[0], -1))\n",
    "    \n",
    "    # Normalize the data: subtract the mean image\n",
    "    mean_image = np.mean(X_train, axis = 0)\n",
    "    X_train -= mean_image\n",
    "    X_val -= mean_image\n",
    "    X_test -= mean_image\n",
    "    X_dev -= mean_image\n",
    "    \n",
    "    # add bias dimension and transform into columns\n",
    "    X_train = np.hstack([X_train, np.ones((X_train.shape[0], 1))])\n",
    "    X_val = np.hstack([X_val, np.ones((X_val.shape[0], 1))])\n",
    "    X_test = np.hstack([X_test, np.ones((X_test.shape[0], 1))])\n",
    "    X_dev = np.hstack([X_dev, np.ones((X_dev.shape[0], 1))])\n",
    "    \n",
    "    return X_train, y_train, X_val, y_val, X_test, y_test, X_dev, y_dev\n",
    "\n",
    "\n",
    "# Invoke the above function to get our data.\n",
    "X_train, y_train, X_val, y_val, X_test, y_test, X_dev, y_dev = get_CIFAR10_data()\n",
    "print('Train data shape: ', X_train.shape)\n",
    "print('Train labels shape: ', y_train.shape)\n",
    "print('Validation data shape: ', X_val.shape)\n",
    "print('Validation labels shape: ', y_val.shape)\n",
    "print('Test data shape: ', X_test.shape)\n",
    "print('Test labels shape: ', y_test.shape)\n",
    "print('dev data shape: ', X_dev.shape)\n",
    "print('dev labels shape: ', y_dev.shape)"
   ]
  },
  {
   "cell_type": "markdown",
   "metadata": {},
   "source": [
    "## Softmax Classifier\n",
    "\n",
    "Your code for this section will all be written inside **cs231n/classifiers/softmax.py**. \n"
   ]
  },
  {
   "cell_type": "code",
   "execution_count": 3,
   "metadata": {},
   "outputs": [
    {
     "name": "stdout",
     "output_type": "stream",
     "text": [
      "loss: 2.404585\n",
      "sanity check: 2.302585\n"
     ]
    }
   ],
   "source": [
    "# First implement the naive softmax loss function with nested loops.\n",
    "# Open the file cs231n/classifiers/softmax.py and implement the\n",
    "# softmax_loss_naive function.\n",
    "\n",
    "from cs231n.classifiers.softmax import softmax_loss_naive\n",
    "import time\n",
    "\n",
    "# Generate a random softmax weight matrix and use it to compute the loss.\n",
    "W = np.random.randn(3073, 10) * 0.0001\n",
    "loss, grad = softmax_loss_naive(W, X_dev, y_dev, 0.0)\n",
    "\n",
    "# As a rough sanity check, our loss should be something close to -log(0.1).\n",
    "print('loss: %f' % loss)\n",
    "print('sanity check: %f' % (-np.log(0.1)))"
   ]
  },
  {
   "cell_type": "markdown",
   "metadata": {
    "tags": [
     "pdf-inline"
    ]
   },
   "source": [
    "**Inline Question 1**\n",
    "\n",
    "Why do we expect our loss to be close to -log(0.1)? Explain briefly.**\n",
    "\n",
    "$\\color{blue}{\\textit Your Answer:}$ \n",
    "> Initialement Wx est proche de 0, donc tous les logits sont proches de 0. Dans la formule: $$L_i = -\\log\\left(\\frac{e^{f_{y_i}}}{ \\sum_j e^{f_j} }\\right)$$\n",
    "> tous les $e^f$ sont presque égaux à 1 et j varie selon le nombre de classes C ici 10. \n",
    "> Donc on a le Loss total (sommé N fois puis divisé par N):\n",
    "> $$L =-ln(1/C)=-ln(0.1)$$\n",
    "\n"
   ]
  },
  {
   "cell_type": "code",
   "execution_count": 4,
   "metadata": {},
   "outputs": [
    {
     "name": "stdout",
     "output_type": "stream",
     "text": [
      "numerical: -0.137218 analytic: -0.137218, relative error: 5.634621e-08\n",
      "numerical: -4.240938 analytic: -4.240938, relative error: 1.057392e-08\n",
      "numerical: -0.164925 analytic: -0.164925, relative error: 2.507307e-07\n",
      "numerical: -2.003805 analytic: -2.003805, relative error: 1.544660e-08\n",
      "numerical: 0.401133 analytic: 0.401133, relative error: 1.555053e-07\n",
      "numerical: -0.608438 analytic: -0.608438, relative error: 1.259599e-07\n",
      "numerical: -4.044914 analytic: -4.044914, relative error: 5.957065e-09\n",
      "numerical: 1.431821 analytic: 1.431821, relative error: 7.826124e-09\n",
      "numerical: 0.759847 analytic: 0.759847, relative error: 2.812365e-08\n",
      "numerical: 1.148317 analytic: 1.148317, relative error: 3.854111e-08\n",
      "numerical: 3.248310 analytic: 3.248310, relative error: 9.624016e-09\n",
      "numerical: 1.753400 analytic: 1.753400, relative error: 7.975659e-09\n",
      "numerical: -1.687842 analytic: -1.687842, relative error: 1.734397e-09\n",
      "numerical: 1.195393 analytic: 1.195393, relative error: 2.964898e-09\n",
      "numerical: 0.748178 analytic: 0.748178, relative error: 6.835155e-08\n",
      "numerical: -4.281898 analytic: -4.281898, relative error: 1.344605e-08\n",
      "numerical: 1.211653 analytic: 1.211653, relative error: 6.151402e-08\n",
      "numerical: 0.760137 analytic: 0.760137, relative error: 8.641147e-08\n",
      "numerical: 2.797061 analytic: 2.797061, relative error: 1.315926e-08\n",
      "numerical: 0.682692 analytic: 0.682692, relative error: 3.495404e-08\n"
     ]
    }
   ],
   "source": [
    "# Complete the implementation of softmax_loss_naive and implement a (naive)\n",
    "# version of the gradient that uses nested loops.\n",
    "loss, grad = softmax_loss_naive(W, X_dev, y_dev, 0.0)\n",
    "\n",
    "# As we did for the SVM, use numeric gradient checking as a debugging tool.\n",
    "# The numeric gradient should be close to the analytic gradient.\n",
    "from cs231n.gradient_check import grad_check_sparse\n",
    "f = lambda w: softmax_loss_naive(w, X_dev, y_dev, 0.0)[0]\n",
    "grad_numerical = grad_check_sparse(f, W, grad, 10)\n",
    "\n",
    "# similar to SVM case, do another gradient check with regularization\n",
    "loss, grad = softmax_loss_naive(W, X_dev, y_dev, 5e1)\n",
    "f = lambda w: softmax_loss_naive(w, X_dev, y_dev, 5e1)[0]\n",
    "grad_numerical = grad_check_sparse(f, W, grad, 10)"
   ]
  },
  {
   "cell_type": "code",
   "execution_count": 7,
   "metadata": {},
   "outputs": [
    {
     "name": "stdout",
     "output_type": "stream",
     "text": [
      "naive loss: 2.404585e+00 computed in 0.118091s\n",
      "vectorized loss: 2.404585e+00 computed in 0.012840s\n",
      "Loss difference: 0.000000\n",
      "Gradient difference: 0.000000\n"
     ]
    }
   ],
   "source": [
    "# Now that we have a naive implementation of the softmax loss function and its gradient,\n",
    "# implement a vectorized version in softmax_loss_vectorized.\n",
    "# The two versions should compute the same results, but the vectorized version should be\n",
    "# much faster.\n",
    "tic = time.time()\n",
    "loss_naive, grad_naive = softmax_loss_naive(W, X_dev, y_dev, 0.000005)\n",
    "toc = time.time()\n",
    "print('naive loss: %e computed in %fs' % (loss_naive, toc - tic))\n",
    "\n",
    "from cs231n.classifiers.softmax import softmax_loss_vectorized\n",
    "tic = time.time()\n",
    "loss_vectorized, grad_vectorized = softmax_loss_vectorized(W, X_dev, y_dev, 0.000005)\n",
    "toc = time.time()\n",
    "print('vectorized loss: %e computed in %fs' % (loss_vectorized, toc - tic))\n",
    "\n",
    "# As we did for the SVM, we use the Frobenius norm to compare the two versions\n",
    "# of the gradient.\n",
    "grad_difference = np.linalg.norm(grad_naive - grad_vectorized, ord='fro')\n",
    "print('Loss difference: %f' % np.abs(loss_naive - loss_vectorized))\n",
    "print('Gradient difference: %f' % grad_difference)"
   ]
  },
  {
   "cell_type": "code",
   "execution_count": 12,
   "metadata": {
    "tags": [
     "code"
    ]
   },
   "outputs": [
    {
     "name": "stdout",
     "output_type": "stream",
     "text": [
      "iteration 0 / 1500: loss 190.589766\n",
      "iteration 100 / 1500: loss 168.228385\n",
      "iteration 200 / 1500: loss 149.196449\n",
      "iteration 300 / 1500: loss 132.255272\n",
      "iteration 400 / 1500: loss 117.392818\n",
      "iteration 500 / 1500: loss 103.996184\n",
      "iteration 600 / 1500: loss 92.348087\n",
      "iteration 700 / 1500: loss 82.148621\n",
      "iteration 800 / 1500: loss 72.964623\n",
      "iteration 900 / 1500: loss 64.717218\n",
      "iteration 1000 / 1500: loss 57.715398\n",
      "iteration 1100 / 1500: loss 51.186022\n",
      "iteration 1200 / 1500: loss 45.667724\n",
      "iteration 1300 / 1500: loss 40.600787\n",
      "iteration 1400 / 1500: loss 36.281752\n",
      "iteration 0 / 1500: loss 222.126074\n",
      "iteration 100 / 1500: loss 191.949661\n",
      "iteration 200 / 1500: loss 166.481694\n",
      "iteration 300 / 1500: loss 144.617777\n",
      "iteration 400 / 1500: loss 125.719437\n",
      "iteration 500 / 1500: loss 109.282826\n",
      "iteration 600 / 1500: loss 95.147454\n",
      "iteration 700 / 1500: loss 82.781469\n",
      "iteration 800 / 1500: loss 72.103885\n",
      "iteration 900 / 1500: loss 63.012182\n",
      "iteration 1000 / 1500: loss 55.079665\n",
      "iteration 1100 / 1500: loss 47.973506\n",
      "iteration 1200 / 1500: loss 41.990819\n",
      "iteration 1300 / 1500: loss 36.699095\n",
      "iteration 1400 / 1500: loss 32.044385\n",
      "iteration 0 / 1500: loss 253.300073\n",
      "iteration 100 / 1500: loss 215.421847\n",
      "iteration 200 / 1500: loss 183.515817\n",
      "iteration 300 / 1500: loss 156.313064\n",
      "iteration 400 / 1500: loss 133.313867\n",
      "iteration 500 / 1500: loss 113.645774\n",
      "iteration 600 / 1500: loss 97.232178\n",
      "iteration 700 / 1500: loss 82.874772\n",
      "iteration 800 / 1500: loss 70.614411\n",
      "iteration 900 / 1500: loss 60.651956\n",
      "iteration 1000 / 1500: loss 51.884702\n",
      "iteration 1100 / 1500: loss 44.539525\n",
      "iteration 1200 / 1500: loss 38.136943\n",
      "iteration 1300 / 1500: loss 32.786822\n",
      "iteration 1400 / 1500: loss 28.180748\n",
      "iteration 0 / 1500: loss 281.886858\n",
      "iteration 100 / 1500: loss 235.017369\n",
      "iteration 200 / 1500: loss 196.109732\n",
      "iteration 300 / 1500: loss 163.896546\n",
      "iteration 400 / 1500: loss 136.938166\n",
      "iteration 500 / 1500: loss 114.526393\n",
      "iteration 600 / 1500: loss 96.032177\n",
      "iteration 700 / 1500: loss 80.558984\n",
      "iteration 800 / 1500: loss 67.348160\n",
      "iteration 900 / 1500: loss 56.439982\n",
      "iteration 1000 / 1500: loss 47.481024\n",
      "iteration 1100 / 1500: loss 40.056658\n",
      "iteration 1200 / 1500: loss 33.606785\n",
      "iteration 1300 / 1500: loss 28.329964\n",
      "iteration 1400 / 1500: loss 24.063717\n",
      "iteration 0 / 1500: loss 188.709076\n",
      "iteration 100 / 1500: loss 147.205658\n",
      "iteration 200 / 1500: loss 115.719889\n",
      "iteration 300 / 1500: loss 91.209429\n",
      "iteration 400 / 1500: loss 71.913672\n",
      "iteration 500 / 1500: loss 57.030450\n",
      "iteration 600 / 1500: loss 45.160849\n",
      "iteration 700 / 1500: loss 35.783081\n",
      "iteration 800 / 1500: loss 28.605292\n",
      "iteration 900 / 1500: loss 22.887492\n",
      "iteration 1000 / 1500: loss 18.422956\n",
      "iteration 1100 / 1500: loss 14.787521\n",
      "iteration 1200 / 1500: loss 12.132998\n",
      "iteration 1300 / 1500: loss 9.932080\n",
      "iteration 1400 / 1500: loss 8.196902\n",
      "iteration 0 / 1500: loss 217.828955\n",
      "iteration 100 / 1500: loss 162.970435\n",
      "iteration 200 / 1500: loss 123.008777\n",
      "iteration 300 / 1500: loss 93.103034\n",
      "iteration 400 / 1500: loss 70.675649\n",
      "iteration 500 / 1500: loss 53.678263\n",
      "iteration 600 / 1500: loss 41.076060\n",
      "iteration 700 / 1500: loss 31.391477\n",
      "iteration 800 / 1500: loss 24.216848\n",
      "iteration 900 / 1500: loss 18.690121\n",
      "iteration 1000 / 1500: loss 14.577507\n",
      "iteration 1100 / 1500: loss 11.494455\n",
      "iteration 1200 / 1500: loss 9.142438\n",
      "iteration 1300 / 1500: loss 7.442727\n",
      "iteration 1400 / 1500: loss 6.054556\n",
      "iteration 0 / 1500: loss 252.401957\n",
      "iteration 100 / 1500: loss 182.300304\n",
      "iteration 200 / 1500: loss 132.451032\n",
      "iteration 300 / 1500: loss 96.441532\n",
      "iteration 400 / 1500: loss 70.498097\n",
      "iteration 500 / 1500: loss 51.447712\n",
      "iteration 600 / 1500: loss 37.910880\n",
      "iteration 700 / 1500: loss 28.067557\n",
      "iteration 800 / 1500: loss 20.878920\n",
      "iteration 900 / 1500: loss 15.622068\n",
      "iteration 1000 / 1500: loss 11.933125\n",
      "iteration 1100 / 1500: loss 9.178447\n",
      "iteration 1200 / 1500: loss 7.092119\n",
      "iteration 1300 / 1500: loss 5.754140\n",
      "iteration 1400 / 1500: loss 4.707100\n",
      "iteration 0 / 1500: loss 282.250582\n",
      "iteration 100 / 1500: loss 195.662392\n",
      "iteration 200 / 1500: loss 136.575375\n",
      "iteration 300 / 1500: loss 95.700373\n",
      "iteration 400 / 1500: loss 67.039997\n",
      "iteration 500 / 1500: loss 47.278457\n",
      "iteration 600 / 1500: loss 33.513980\n",
      "iteration 700 / 1500: loss 23.978477\n",
      "iteration 800 / 1500: loss 17.253174\n",
      "iteration 900 / 1500: loss 12.668389\n",
      "iteration 1000 / 1500: loss 9.514951\n",
      "iteration 1100 / 1500: loss 7.226573\n",
      "iteration 1200 / 1500: loss 5.586454\n",
      "iteration 1300 / 1500: loss 4.441298\n",
      "iteration 1400 / 1500: loss 3.718482\n",
      "iteration 0 / 1500: loss 188.279006\n",
      "iteration 100 / 1500: loss 115.608726\n",
      "iteration 200 / 1500: loss 71.752696\n",
      "iteration 300 / 1500: loss 45.057470\n",
      "iteration 400 / 1500: loss 28.552671\n",
      "iteration 500 / 1500: loss 18.323725\n",
      "iteration 600 / 1500: loss 12.048827\n",
      "iteration 700 / 1500: loss 8.213999\n",
      "iteration 800 / 1500: loss 5.758942\n",
      "iteration 900 / 1500: loss 4.283450\n",
      "iteration 1000 / 1500: loss 3.358518\n",
      "iteration 1100 / 1500: loss 2.864847\n",
      "iteration 1200 / 1500: loss 2.464308\n",
      "iteration 1300 / 1500: loss 2.325603\n",
      "iteration 1400 / 1500: loss 2.223711\n",
      "iteration 0 / 1500: loss 222.079401\n",
      "iteration 100 / 1500: loss 125.895107\n",
      "iteration 200 / 1500: loss 72.393560\n",
      "iteration 300 / 1500: loss 41.886741\n",
      "iteration 400 / 1500: loss 24.743066\n",
      "iteration 500 / 1500: loss 14.849510\n",
      "iteration 600 / 1500: loss 9.342351\n",
      "iteration 700 / 1500: loss 6.146777\n",
      "iteration 800 / 1500: loss 4.363034\n",
      "iteration 900 / 1500: loss 3.352446\n",
      "iteration 1000 / 1500: loss 2.780209\n",
      "iteration 1100 / 1500: loss 2.401444\n",
      "iteration 1200 / 1500: loss 2.117271\n",
      "iteration 1300 / 1500: loss 2.152130\n",
      "iteration 1400 / 1500: loss 2.094500\n",
      "iteration 0 / 1500: loss 251.999166\n",
      "iteration 100 / 1500: loss 131.930845\n",
      "iteration 200 / 1500: loss 70.152568\n",
      "iteration 300 / 1500: loss 37.742316\n",
      "iteration 400 / 1500: loss 20.787627\n",
      "iteration 500 / 1500: loss 11.774586\n",
      "iteration 600 / 1500: loss 7.139097\n",
      "iteration 700 / 1500: loss 4.699355\n",
      "iteration 800 / 1500: loss 3.430170\n",
      "iteration 900 / 1500: loss 2.761958\n",
      "iteration 1000 / 1500: loss 2.356882\n",
      "iteration 1100 / 1500: loss 2.222570\n",
      "iteration 1200 / 1500: loss 2.052025\n",
      "iteration 1300 / 1500: loss 2.032666\n",
      "iteration 1400 / 1500: loss 2.017547\n",
      "iteration 0 / 1500: loss 286.696641\n",
      "iteration 100 / 1500: loss 139.208606\n",
      "iteration 200 / 1500: loss 68.171474\n",
      "iteration 300 / 1500: loss 34.153840\n",
      "iteration 400 / 1500: loss 17.547452\n",
      "iteration 500 / 1500: loss 9.452957\n",
      "iteration 600 / 1500: loss 5.650573\n",
      "iteration 700 / 1500: loss 3.726861\n",
      "iteration 800 / 1500: loss 2.881627\n",
      "iteration 900 / 1500: loss 2.387740\n",
      "iteration 1000 / 1500: loss 2.130768\n",
      "iteration 1100 / 1500: loss 2.065628\n",
      "iteration 1200 / 1500: loss 2.028392\n",
      "iteration 1300 / 1500: loss 2.118653\n",
      "iteration 1400 / 1500: loss 1.947437\n",
      "lr 5.000000e-08 reg 6.000000e+03 train accuracy: 0.260592 val accuracy: 0.276000\n",
      "lr 5.000000e-08 reg 7.000000e+03 train accuracy: 0.274531 val accuracy: 0.276000\n",
      "lr 5.000000e-08 reg 8.000000e+03 train accuracy: 0.285735 val accuracy: 0.298000\n",
      "lr 5.000000e-08 reg 9.000000e+03 train accuracy: 0.292469 val accuracy: 0.271000\n",
      "lr 1.000000e-07 reg 6.000000e+03 train accuracy: 0.346082 val accuracy: 0.361000\n",
      "lr 1.000000e-07 reg 7.000000e+03 train accuracy: 0.349082 val accuracy: 0.337000\n",
      "lr 1.000000e-07 reg 8.000000e+03 train accuracy: 0.353959 val accuracy: 0.361000\n",
      "lr 1.000000e-07 reg 9.000000e+03 train accuracy: 0.348796 val accuracy: 0.362000\n",
      "lr 2.000000e-07 reg 6.000000e+03 train accuracy: 0.369592 val accuracy: 0.379000\n",
      "lr 2.000000e-07 reg 7.000000e+03 train accuracy: 0.365245 val accuracy: 0.370000\n",
      "lr 2.000000e-07 reg 8.000000e+03 train accuracy: 0.361490 val accuracy: 0.375000\n",
      "lr 2.000000e-07 reg 9.000000e+03 train accuracy: 0.361633 val accuracy: 0.379000\n",
      "best validation accuracy achieved during cross-validation: 0.379000\n"
     ]
    }
   ],
   "source": [
    "# Use the validation set to tune hyperparameters (regularization strength and\n",
    "# learning rate). You should experiment with different ranges for the learning\n",
    "# rates and regularization strengths; if you are careful you should be able to\n",
    "# get a classification accuracy of over 0.35 on the validation set.\n",
    "from cs231n.classifiers import Softmax\n",
    "results = {}\n",
    "best_val = -1\n",
    "best_softmax = None\n",
    "learning_rates = [0.5e-7, 1e-7, 2e-7]\n",
    "regularization_strengths = [6e3, 7e3, 8e3, 9e3]\n",
    "\n",
    "################################################################################\n",
    "# TODO:                                                                        #\n",
    "# Use the validation set to set the learning rate and regularization strength. #\n",
    "# This should be identical to the validation that you did for the SVM; save    #\n",
    "# the best trained softmax classifer in best_softmax.                          #\n",
    "################################################################################\n",
    "# *****START OF YOUR CODE (DO NOT DELETE/MODIFY THIS LINE)*****\n",
    "\n",
    "for lr in learning_rates:\n",
    "    for rs in regularization_strengths:\n",
    "        softmax = Softmax()\n",
    "        softmax.train(X_train, y_train, learning_rate=lr, reg=rs, num_iters=1500, verbose=True)\n",
    "        y_train_pred = softmax.predict(X_train)\n",
    "        training_accuracy =  np.mean(y_train == y_train_pred)\n",
    "        y_val_pred = softmax.predict(X_val)\n",
    "        validation_accuracy = np.mean(y_val == y_val_pred)\n",
    "        if validation_accuracy > best_val :\n",
    "            best_val = validation_accuracy\n",
    "            best_softmax = softmax\n",
    "        results[(lr, rs)] = (training_accuracy, validation_accuracy)\n",
    "\n",
    "# *****END OF YOUR CODE (DO NOT DELETE/MODIFY THIS LINE)*****\n",
    "    \n",
    "# Print out results.\n",
    "for lr, reg in sorted(results):\n",
    "    train_accuracy, val_accuracy = results[(lr, reg)]\n",
    "    print('lr %e reg %e train accuracy: %f val accuracy: %f' % (\n",
    "                lr, reg, train_accuracy, val_accuracy))\n",
    "    \n",
    "print('best validation accuracy achieved during cross-validation: %f' % best_val)"
   ]
  },
  {
   "cell_type": "code",
   "execution_count": 13,
   "metadata": {},
   "outputs": [
    {
     "name": "stdout",
     "output_type": "stream",
     "text": [
      "softmax on raw pixels final test set accuracy: 0.371000\n"
     ]
    }
   ],
   "source": [
    "# evaluate on test set\n",
    "# Evaluate the best softmax on test set\n",
    "y_test_pred = best_softmax.predict(X_test)\n",
    "test_accuracy = np.mean(y_test == y_test_pred)\n",
    "print('softmax on raw pixels final test set accuracy: %f' % (test_accuracy, ))"
   ]
  },
  {
   "cell_type": "markdown",
   "metadata": {
    "tags": [
     "pdf-inline"
    ]
   },
   "source": [
    "**Inline Question 2** - *True or False*\n",
    "\n",
    "Suppose the overall training loss is defined as the sum of the per-datapoint loss over all training examples. It is possible to add a new datapoint to a training set that would leave the SVM loss unchanged, but this is not the case with the Softmax classifier loss.\n",
    "\n",
    "$\\color{blue}{\\textit Your Answer:}$\n",
    "\n",
    "\n",
    "$\\color{blue}{\\textit Your Explanation:}$\n",
    "\n"
   ]
  },
  {
   "cell_type": "code",
   "execution_count": 15,
   "metadata": {},
   "outputs": [
    {
     "data": {
      "image/png": "[encoded data removed]",
      "text/plain": [
       "<Figure size 432x288 with 10 Axes>"
      ]
     },
     "metadata": {
      "needs_background": "light"
     },
     "output_type": "display_data"
    }
   ],
   "source": [
    "# Visualize the learned weights for each class\n",
    "w = best_softmax.W[:-1,:] # strip out the bias\n",
    "w = w.reshape(32, 32, 3, 10)\n",
    "\n",
    "w_min, w_max = np.min(w), np.max(w)\n",
    "\n",
    "classes = ['plane', 'car', 'bird', 'cat', 'deer', 'dog', 'frog', 'horse', 'ship', 'truck']\n",
    "for i in range(10):\n",
    "    plt.subplot(2, 5, i + 1)\n",
    "    \n",
    "    # Rescale the weights to be between 0 and 255\n",
    "    wimg = 255.0 * (w[:, :, :, i].squeeze() - w_min) / (w_max - w_min)\n",
    "    plt.imshow(wimg.astype('uint8'))\n",
    "    plt.axis('off')\n",
    "    plt.title(classes[i])"
   ]
  },
  {
   "cell_type": "code",
   "execution_count": null,
   "metadata": {},
   "outputs": [],
   "source": []
  }
 ],
 "metadata": {
  "kernelspec": {
   "display_name": "Python 3",
   "language": "python",
   "name": "python3"
  },
  "language_info": {
   "codemirror_mode": {
    "name": "ipython",
    "version": 3
   },
   "file_extension": ".py",
   "mimetype": "text/x-python",
   "name": "python",
   "nbconvert_exporter": "python",
   "pygments_lexer": "ipython3",
   "version": "3.7.3"
  }
 },
 "nbformat": 4,
 "nbformat_minor": 2
}
