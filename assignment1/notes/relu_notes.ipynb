{
 "cells": [
  {
   "cell_type": "markdown",
   "metadata": {},
   "source": [
    "relu - notes"
   ]
  },
  {
   "cell_type": "markdown",
   "metadata": {},
   "source": [
    "# Forward Pass"
   ]
  },
  {
   "cell_type": "code",
   "execution_count": 31,
   "metadata": {},
   "outputs": [
    {
     "data": {
      "text/plain": [
       "array([ 16.243,  -6.118,  -5.282, -10.73 ])"
      ]
     },
     "execution_count": 31,
     "metadata": {},
     "output_type": "execute_result"
    }
   ],
   "source": [
    "# Create a small net and some toy data to check your implementations.\n",
    "# Note that we set the random seed for repeatable experiments.\n",
    "import numpy as np\n",
    "\n",
    "D = 4 # input_size\n",
    "C = 3 # num_classes\n",
    "#N = 5 # num_inputs\n",
    "\n",
    "def init_toy_data():\n",
    "    np.random.seed(1)\n",
    "    X = 10 * np.random.randn(D) # un seul vecteur\n",
    "    return X\n",
    "\n",
    "X = init_toy_data()\n",
    "np.around(X,3)"
   ]
  },
  {
   "cell_type": "code",
   "execution_count": 32,
   "metadata": {},
   "outputs": [],
   "source": [
    "std=1e-1\n",
    "W = std * np.random.randn(D, C)\n",
    "b = np.zeros(C)"
   ]
  },
  {
   "cell_type": "code",
   "execution_count": 33,
   "metadata": {},
   "outputs": [
    {
     "data": {
      "text/plain": [
       "array([[ 0.087, -0.23 ,  0.174],\n",
       "       [-0.076,  0.032, -0.025],\n",
       "       [ 0.146, -0.206, -0.032],\n",
       "       [-0.038,  0.113, -0.11 ]])"
      ]
     },
     "execution_count": 33,
     "metadata": {},
     "output_type": "execute_result"
    }
   ],
   "source": [
    "np.around(W,3)"
   ]
  },
  {
   "cell_type": "code",
   "execution_count": 35,
   "metadata": {},
   "outputs": [],
   "source": [
    "X  = np.hstack([X, np.array([1.])])\n",
    "W  = np.vstack([W,b])"
   ]
  },
  {
   "cell_type": "code",
   "execution_count": 36,
   "metadata": {},
   "outputs": [
    {
     "data": {
      "text/plain": [
       "array([ 16.243,  -6.118,  -5.282, -10.73 ,   1.   ])"
      ]
     },
     "execution_count": 36,
     "metadata": {},
     "output_type": "execute_result"
    }
   ],
   "source": [
    "np.around(X,3)"
   ]
  },
  {
   "cell_type": "code",
   "execution_count": 37,
   "metadata": {},
   "outputs": [
    {
     "data": {
      "text/plain": [
       "array([[ 0.087, -0.23 ,  0.174],\n",
       "       [-0.076,  0.032, -0.025],\n",
       "       [ 0.146, -0.206, -0.032],\n",
       "       [-0.038,  0.113, -0.11 ],\n",
       "       [ 0.   ,  0.   ,  0.   ]])"
      ]
     },
     "execution_count": 37,
     "metadata": {},
     "output_type": "execute_result"
    }
   ],
   "source": [
    "np.around(W,3)"
   ]
  },
  {
   "cell_type": "code",
   "execution_count": 38,
   "metadata": {},
   "outputs": [],
   "source": [
    "Y  = np.zeros_like(X)\n",
    "# logits\n",
    "logits = np.matmul(X,W)\n",
    "# relu\n",
    "Y = np.maximum(logits, 0)"
   ]
  },
  {
   "cell_type": "code",
   "execution_count": 40,
   "metadata": {},
   "outputs": [
    {
     "data": {
      "text/plain": [
       "array([ 1.511, -4.062,  4.337])"
      ]
     },
     "execution_count": 40,
     "metadata": {},
     "output_type": "execute_result"
    }
   ],
   "source": [
    "np.around(logits,3)"
   ]
  },
  {
   "cell_type": "code",
   "execution_count": 39,
   "metadata": {},
   "outputs": [
    {
     "data": {
      "text/plain": [
       "array([1.511, 0.   , 4.337])"
      ]
     },
     "execution_count": 39,
     "metadata": {},
     "output_type": "execute_result"
    }
   ],
   "source": [
    "np.around(Y,3)"
   ]
  },
  {
   "cell_type": "markdown",
   "metadata": {},
   "source": [
    "# Backpropagation in relu layer"
   ]
  },
  {
   "cell_type": "markdown",
   "metadata": {},
   "source": [
    "$\\lambda = logits$"
   ]
  },
  {
   "cell_type": "markdown",
   "metadata": {},
   "source": [
    "On connaît $$\\frac{\\partial L}{\\partial Y} = dL$$ où $L$ est le loss final. Dans la rétropropagation on va calculer successivement $$\\frac{\\partial L}{\\partial \\lambda} = \\frac{\\partial L}{\\partial Y}.\\frac{\\partial Y}{\\partial \\lambda}$$ puis $$\\frac{\\partial L}{\\partial W} = \\frac{\\partial L}{\\partial \\lambda}.\\frac{\\partial \\lambda}{\\partial W}$$ et $$\\frac{\\partial L}{\\partial X}$$"
   ]
  },
  {
   "cell_type": "code",
   "execution_count": 60,
   "metadata": {},
   "outputs": [],
   "source": [
    "# Par exemple on \"rétro-passe\":\n",
    "dL = np.array([0.031, -0.415   , 0.926])"
   ]
  },
  {
   "cell_type": "markdown",
   "metadata": {},
   "source": [
    "## $dY = \\partial Y/\\partial \\lambda$"
   ]
  },
  {
   "cell_type": "markdown",
   "metadata": {},
   "source": [
    "$$\n",
    "\\begin{align*}\n",
    "\\frac{\\partial y_i}{\\partial \\lambda_j} & = \\frac{\\partial }{\\partial \\lambda_j}max(\\lambda_i,0)\\\\\n",
    "& = \n",
    "   \\begin{cases} \n",
    "   1 & \\text{ si } i=j \\text{ et } \\lambda_i>0 \\\\\n",
    "   0       & \\text{sinon }\n",
    "  \\end{cases}\n",
    "\\end{align*}\n",
    "$$"
   ]
  },
  {
   "cell_type": "markdown",
   "metadata": {},
   "source": [
    "dY est une matrice (C,C) avec seulement des termes sur la diagonale, non nuls lorsque $\\lambda_i>0$"
   ]
  },
  {
   "cell_type": "markdown",
   "metadata": {},
   "source": [
    "Ceci va nous permettre d'avoir une expression simplifiée de $\\frac{\\partial L}{\\partial \\lambda}$"
   ]
  },
  {
   "cell_type": "markdown",
   "metadata": {},
   "source": [
    "## dlogits = $\\partial L/\\partial \\lambda$"
   ]
  },
  {
   "cell_type": "markdown",
   "metadata": {},
   "source": [
    "$$\n",
    "\\begin{align*}\n",
    "\\frac{\\partial L}{\\partial \\lambda_k} & = \\sum_{i}\\frac{\\partial L}{\\partial y_i}.\\frac{\\partial y_i}{\\partial \\lambda_k}\\\\\n",
    "& = \n",
    "   \\begin{cases} \n",
    "   \\frac{\\partial L}{\\partial y_k} & \\text{si } \\lambda_k>0 \\\\\n",
    "   0       & \\text{sinon }\n",
    "  \\end{cases}\n",
    "\\end{align*}\n",
    "$$"
   ]
  },
  {
   "cell_type": "code",
   "execution_count": 57,
   "metadata": {},
   "outputs": [
    {
     "data": {
      "text/plain": [
       "array([ 0.031, -0.   ,  0.926])"
      ]
     },
     "execution_count": 57,
     "metadata": {},
     "output_type": "execute_result"
    }
   ],
   "source": [
    "dlogits = dL*(logits>0)\n",
    "dlogits"
   ]
  },
  {
   "cell_type": "markdown",
   "metadata": {},
   "source": [
    "## $\\partial L/\\partial W$"
   ]
  },
  {
   "cell_type": "markdown",
   "metadata": {},
   "source": [
    "On a montré (cf BP-softmax-layer) que $$\\frac{\\partial L}{\\partial W} = X^T.\\frac{\\partial L}{\\partial \\lambda}$$"
   ]
  },
  {
   "cell_type": "code",
   "execution_count": 59,
   "metadata": {},
   "outputs": [
    {
     "data": {
      "text/plain": [
       "array([[ 0.50354706, -6.74103326, 15.04143807],\n",
       "       [-0.18964449,  2.53878912, -5.66486439],\n",
       "       [-0.16373324,  2.19191277, -4.89087043],\n",
       "       [-0.33262027,  4.45281978, -9.93568944],\n",
       "       [ 0.031     , -0.415     ,  0.926     ]])"
      ]
     },
     "execution_count": 59,
     "metadata": {},
     "output_type": "execute_result"
    }
   ],
   "source": [
    "dW = np.outer(X, dL)\n",
    "dW"
   ]
  },
  {
   "cell_type": "markdown",
   "metadata": {},
   "source": [
    "# Version vectorisée avec N entrées X"
   ]
  },
  {
   "cell_type": "markdown",
   "metadata": {},
   "source": [
    "## Forward pass"
   ]
  },
  {
   "cell_type": "code",
   "execution_count": 64,
   "metadata": {},
   "outputs": [
    {
     "name": "stdout",
     "output_type": "stream",
     "text": [
      "X\n",
      " [[ 16.243  -6.118  -5.282 -10.73    1.   ]\n",
      " [  8.654 -23.015  17.448  -7.612   1.   ]\n",
      " [  3.19   -2.494  14.621 -20.601   1.   ]\n",
      " [ -3.224  -3.841  11.338 -10.999   1.   ]\n",
      " [ -1.724  -8.779   0.422   5.828   1.   ]]\n"
     ]
    }
   ],
   "source": [
    "import numpy as np\n",
    "\n",
    "D = 4 # input_size\n",
    "C = 3 # num_classes\n",
    "N = 5 # num_inputs\n",
    "\n",
    "def init_toy_data():\n",
    "    np.random.seed(1)\n",
    "    X = 10 * np.random.randn(N, D)\n",
    "    return X\n",
    "\n",
    "X = init_toy_data()\n",
    "\n",
    "std=1e-1\n",
    "W = std * np.random.randn(D, C)\n",
    "b = np.zeros(C)\n",
    "# b dans W\n",
    "X  = np.hstack([X, np.ones((X.shape[0],1))])\n",
    "W  = np.vstack([W,b])\n",
    "\n",
    "print('X\\n',np.around(X,3))"
   ]
  },
  {
   "cell_type": "code",
   "execution_count": 65,
   "metadata": {},
   "outputs": [
    {
     "name": "stdout",
     "output_type": "stream",
     "text": [
      "logits\n",
      " [[-2.599  2.545  2.45 ]\n",
      " [-2.727 -2.189  2.188]\n",
      " [-1.749  0.197  0.884]\n",
      " [-0.561 -1.015  0.105]\n",
      " [ 0.053 -1.431  0.202]]\n",
      "Y\n",
      " [[0.    2.545 2.45 ]\n",
      " [0.    0.    2.188]\n",
      " [0.    0.197 0.884]\n",
      " [0.    0.    0.105]\n",
      " [0.053 0.    0.202]]\n"
     ]
    }
   ],
   "source": [
    "# Layer computation results\n",
    "Y  = np.zeros_like(X)\n",
    "# logits\n",
    "logits = np.matmul(X,W)\n",
    "# relu\n",
    "Y = np.maximum(logits, 0)\n",
    "\n",
    "print('logits\\n',np.around(logits,3))\n",
    "print('Y\\n',np.around(Y,3))"
   ]
  },
  {
   "cell_type": "markdown",
   "metadata": {},
   "source": [
    "## Backprop"
   ]
  },
  {
   "cell_type": "code",
   "execution_count": 68,
   "metadata": {},
   "outputs": [
    {
     "data": {
      "text/plain": [
       "array([[ 0.00129298, -0.07980928, -0.00114819],\n",
       "       [-0.05755717,  0.06316294,  0.10198168],\n",
       "       [ 0.16855754, -0.18964963, -0.19441138],\n",
       "       [-0.10044659, -0.03399629,  0.03761689],\n",
       "       [-0.01843651, -0.25222012, -0.0806204 ]])"
      ]
     },
     "execution_count": 68,
     "metadata": {},
     "output_type": "execute_result"
    }
   ],
   "source": [
    "# Par exemple on \"rétro-passe\":\n",
    "dL = std * (np.random.randn(N, C) - 0.5)\n",
    "dL"
   ]
  },
  {
   "cell_type": "code",
   "execution_count": 69,
   "metadata": {},
   "outputs": [
    {
     "data": {
      "text/plain": [
       "array([[ 0.        , -0.07980928, -0.00114819],\n",
       "       [-0.        ,  0.        ,  0.10198168],\n",
       "       [ 0.        , -0.18964963, -0.19441138],\n",
       "       [-0.        , -0.        ,  0.03761689],\n",
       "       [-0.01843651, -0.        , -0.0806204 ]])"
      ]
     },
     "execution_count": 69,
     "metadata": {},
     "output_type": "execute_result"
    }
   ],
   "source": [
    "dlogits = dL*(logits>0)\n",
    "dlogits"
   ]
  },
  {
   "cell_type": "code",
   "execution_count": 70,
   "metadata": {},
   "outputs": [
    {
     "data": {
      "text/plain": [
       "array([[ 0.00635795, -0.38028697,  0.05227749],\n",
       "       [ 0.03236928,  0.19223368, -0.25841114],\n",
       "       [-0.00155655, -0.47027045, -0.1329191 ],\n",
       "       [-0.02149015,  0.95267558,  0.47151264],\n",
       "       [-0.0036873 , -0.05389178, -0.02731628]])"
      ]
     },
     "execution_count": 70,
     "metadata": {},
     "output_type": "execute_result"
    }
   ],
   "source": [
    "dW = X.T.dot(dlogits)\n",
    "dW /= N\n",
    "dW"
   ]
  },
  {
   "cell_type": "code",
   "execution_count": 74,
   "metadata": {},
   "outputs": [
    {
     "data": {
      "text/plain": [
       "array([ 0.05227749, -0.25841114, -0.1329191 ,  0.47151264, -0.02731628])"
      ]
     },
     "execution_count": 74,
     "metadata": {},
     "output_type": "execute_result"
    }
   ],
   "source": [
    "# b\n",
    "dW[:, dW.shape[1]-1]"
   ]
  },
  {
   "cell_type": "code",
   "execution_count": 1,
   "metadata": {},
   "outputs": [],
   "source": [
    "## Dropout"
   ]
  },
  {
   "cell_type": "code",
   "execution_count": 2,
   "metadata": {},
   "outputs": [
    {
     "name": "stdout",
     "output_type": "stream",
     "text": [
      "X\n",
      " [[ 16.243  -6.118  -5.282 -10.73    1.   ]\n",
      " [  8.654 -23.015  17.448  -7.612   1.   ]\n",
      " [  3.19   -2.494  14.621 -20.601   1.   ]\n",
      " [ -3.224  -3.841  11.338 -10.999   1.   ]\n",
      " [ -1.724  -8.779   0.422   5.828   1.   ]]\n"
     ]
    }
   ],
   "source": [
    "import numpy as np\n",
    "\n",
    "D = 4 # input_size\n",
    "C = 3 # num_classes\n",
    "N = 5 # num_inputs\n",
    "\n",
    "def init_toy_data():\n",
    "    np.random.seed(1)\n",
    "    X = 10 * np.random.randn(N, D)\n",
    "    return X\n",
    "\n",
    "X = init_toy_data()\n",
    "\n",
    "std=1e-1\n",
    "W = std * np.random.randn(D, C)\n",
    "b = np.zeros(C)\n",
    "# b dans W\n",
    "X  = np.hstack([X, np.ones((X.shape[0],1))])\n",
    "W  = np.vstack([W,b])\n",
    "\n",
    "print('X\\n',np.around(X,3))"
   ]
  },
  {
   "cell_type": "code",
   "execution_count": 3,
   "metadata": {},
   "outputs": [
    {
     "name": "stdout",
     "output_type": "stream",
     "text": [
      "logits\n",
      " [[-2.599  2.545  2.45 ]\n",
      " [-2.727 -2.189  2.188]\n",
      " [-1.749  0.197  0.884]\n",
      " [-0.561 -1.015  0.105]\n",
      " [ 0.053 -1.431  0.202]]\n",
      "Y\n",
      " [[0.    2.545 2.45 ]\n",
      " [0.    0.    2.188]\n",
      " [0.    0.197 0.884]\n",
      " [0.    0.    0.105]\n",
      " [0.053 0.    0.202]]\n"
     ]
    }
   ],
   "source": [
    "# Layer computation results\n",
    "Y  = np.zeros_like(X)\n",
    "# logits\n",
    "logits = np.matmul(X,W)\n",
    "# relu\n",
    "Y = np.maximum(logits, 0)\n",
    "\n",
    "print('logits\\n',np.around(logits,3))\n",
    "print('Y\\n',np.around(Y,3))"
   ]
  },
  {
   "cell_type": "code",
   "execution_count": 4,
   "metadata": {},
   "outputs": [
    {
     "data": {
      "text/plain": [
       "2"
      ]
     },
     "execution_count": 4,
     "metadata": {},
     "output_type": "execute_result"
    }
   ],
   "source": [
    "int(0.1*20.5\n",
    "   )"
   ]
  },
  {
   "cell_type": "code",
   "execution_count": 23,
   "metadata": {},
   "outputs": [
    {
     "data": {
      "text/plain": [
       "array([[-2.59933742,  0.        ,  2.44996461],\n",
       "       [-2.72712495,  0.        ,  2.18846686],\n",
       "       [-1.74873341,  0.        ,  0.88383097],\n",
       "       [-0.56078911,  0.        ,  0.10456272],\n",
       "       [ 0.05257048,  0.        ,  0.20221403]])"
      ]
     },
     "execution_count": 23,
     "metadata": {},
     "output_type": "execute_result"
    }
   ],
   "source": [
    "number_of_dropped_cells = int(0.5 * C)\n",
    "dropout_mask = np.random.choice(C, number_of_dropped_cells, replace=False)\n",
    "logits[:, dropout_mask] = 0\n",
    "logits"
   ]
  },
  {
   "cell_type": "code",
   "execution_count": 7,
   "metadata": {},
   "outputs": [
    {
     "data": {
      "text/plain": [
       "array([0])"
      ]
     },
     "execution_count": 7,
     "metadata": {},
     "output_type": "execute_result"
    }
   ],
   "source": [
    "dropout_mask"
   ]
  },
  {
   "cell_type": "code",
   "execution_count": 8,
   "metadata": {},
   "outputs": [
    {
     "data": {
      "text/plain": [
       "1"
      ]
     },
     "execution_count": 8,
     "metadata": {},
     "output_type": "execute_result"
    }
   ],
   "source": [
    "number_of_dropped_cells"
   ]
  },
  {
   "cell_type": "code",
   "execution_count": 9,
   "metadata": {},
   "outputs": [
    {
     "data": {
      "text/plain": [
       "3"
      ]
     },
     "execution_count": 9,
     "metadata": {},
     "output_type": "execute_result"
    }
   ],
   "source": [
    "C"
   ]
  },
  {
   "cell_type": "code",
   "execution_count": 22,
   "metadata": {},
   "outputs": [
    {
     "data": {
      "text/plain": [
       "array([2])"
      ]
     },
     "execution_count": 22,
     "metadata": {},
     "output_type": "execute_result"
    }
   ],
   "source": [
    "np.random.choice(C, number_of_dropped_cells, replace=False)"
   ]
  },
  {
   "cell_type": "code",
   "execution_count": null,
   "metadata": {},
   "outputs": [],
   "source": []
  },
  {
   "cell_type": "code",
   "execution_count": null,
   "metadata": {},
   "outputs": [],
   "source": []
  }
 ],
 "metadata": {
  "kernelspec": {
   "display_name": "Python 3",
   "language": "python",
   "name": "python3"
  },
  "language_info": {
   "codemirror_mode": {
    "name": "ipython",
    "version": 3
   },
   "file_extension": ".py",
   "mimetype": "text/x-python",
   "name": "python",
   "nbconvert_exporter": "python",
   "pygments_lexer": "ipython3",
   "version": "3.7.3"
  }
 },
 "nbformat": 4,
 "nbformat_minor": 2
}
